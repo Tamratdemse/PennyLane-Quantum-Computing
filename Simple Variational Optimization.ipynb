{
 "cells": [
  {
   "cell_type": "markdown",
   "id": "e68fce14-7291-4cd9-b02a-09ef10db709b",
   "metadata": {},
   "source": [
    "# Importing the necessary libraries"
   ]
  },
  {
   "cell_type": "code",
   "execution_count": 1,
   "id": "cfacc4b5-b6a3-498f-a5e1-158c9adf768b",
   "metadata": {},
   "outputs": [],
   "source": [
    "import pennylane as qml\n",
    "from pennylane import numpy as np\n",
    "import matplotlib.pyplot as plt"
   ]
  },
  {
   "cell_type": "markdown",
   "id": "c2432e4a-60e6-4c57-b7ac-c25f1e4b2a7f",
   "metadata": {},
   "source": [
    "# Create a device with 1 qubit"
   ]
  },
  {
   "cell_type": "code",
   "execution_count": 2,
   "id": "343b442f-75d0-47aa-81c0-7ea7fb2f3af1",
   "metadata": {},
   "outputs": [],
   "source": [
    "dev = qml.device(\"default.qubit\", wires=1)"
   ]
  },
  {
   "cell_type": "markdown",
   "id": "11eb3d4a-b1d5-4891-b4b2-91493bafcad3",
   "metadata": {},
   "source": [
    "# Define the quantum node (QNode)"
   ]
  },
  {
   "cell_type": "code",
   "execution_count": 3,
   "id": "6a9ab103-3181-431b-bae3-38b3fb1f93e4",
   "metadata": {},
   "outputs": [],
   "source": [
    "@qml.qnode(dev)\n",
    "def circuit(theta):\n",
    "    qml.RX(theta, wires=0)\n",
    "    return qml.expval(qml.PauliZ(0))"
   ]
  },
  {
   "cell_type": "markdown",
   "id": "76726bf3-1d2f-44d5-90d0-6451519eeb74",
   "metadata": {},
   "source": [
    "# Define the cost function: expectation value of PauliZ"
   ]
  },
  {
   "cell_type": "code",
   "execution_count": 4,
   "id": "24cc0233-9bb4-451d-8324-85a37af46ce5",
   "metadata": {},
   "outputs": [],
   "source": [
    "def cost(theta):\n",
    "    return circuit(theta)"
   ]
  },
  {
   "cell_type": "markdown",
   "id": "59ac0b0c-5913-4a60-ae3e-068b99338a28",
   "metadata": {},
   "source": [
    "# Initialize the parameter"
   ]
  },
  {
   "cell_type": "code",
   "execution_count": 5,
   "id": "135a70c1-3127-4545-af80-a73bbd7fc542",
   "metadata": {},
   "outputs": [],
   "source": [
    "theta = np.array(0.5, requires_grad=True) "
   ]
  },
  {
   "cell_type": "markdown",
   "id": "d917017a-1a29-420a-b53c-7bbbe983fa14",
   "metadata": {},
   "source": [
    "# Set up optimizer"
   ]
  },
  {
   "cell_type": "code",
   "execution_count": 6,
   "id": "f5bc808f-4d46-4f17-93af-e895fcf1c533",
   "metadata": {},
   "outputs": [],
   "source": [
    "opt = qml.GradientDescentOptimizer(stepsize=0.4)"
   ]
  },
  {
   "cell_type": "markdown",
   "id": "c2567cb1-96b5-44fc-9ffe-e2760bdae85c",
   "metadata": {},
   "source": [
    "# Store cost values for plotting"
   ]
  },
  {
   "cell_type": "code",
   "execution_count": 7,
   "id": "bc5a0e37-5235-4b20-9de9-bfb03315aa4e",
   "metadata": {},
   "outputs": [],
   "source": [
    "steps = 30\n",
    "costs = []"
   ]
  },
  {
   "cell_type": "markdown",
   "id": "bd1211cb-14e1-4e17-94af-bea8ee8a042e",
   "metadata": {},
   "source": [
    "# Optimization loop"
   ]
  },
  {
   "cell_type": "code",
   "execution_count": 8,
   "id": "a66e1365-82b7-4b92-b286-618b3fe291b2",
   "metadata": {},
   "outputs": [
    {
     "name": "stdout",
     "output_type": "stream",
     "text": [
      "Step |   Theta        |   Cost\n",
      "   0 | 0.500000 (rad) | 0.877583\n",
      "   1 | 0.691770 (rad) | 0.770118\n",
      "   2 | 0.946931 (rad) | 0.584177\n",
      "   3 | 1.271581 (rad) | 0.294770\n",
      "   4 | 1.653809 (rad) | -0.082917\n",
      "   5 | 2.052431 (rad) | -0.463229\n",
      "   6 | 2.406927 (rad) | -0.742055\n",
      "   7 | 2.675062 (rad) | -0.893134\n",
      "   8 | 2.854978 (rad) | -0.959207\n",
      "   9 | 2.968061 (rad) | -0.984981\n",
      "  10 | 3.037126 (rad) | -0.994548\n",
      "  11 | 3.078837 (rad) | -0.998031\n",
      "  12 | 3.103923 (rad) | -0.999291\n",
      "  13 | 3.118987 (rad) | -0.999745\n",
      "  14 | 3.128028 (rad) | -0.999908\n",
      "  15 | 3.133454 (rad) | -0.999967\n",
      "  16 | 3.136709 (rad) | -0.999988\n",
      "  17 | 3.138663 (rad) | -0.999996\n",
      "  18 | 3.139835 (rad) | -0.999998\n",
      "  19 | 3.140538 (rad) | -0.999999\n",
      "  20 | 3.140960 (rad) | -1.000000\n",
      "  21 | 3.141213 (rad) | -1.000000\n",
      "  22 | 3.141365 (rad) | -1.000000\n",
      "  23 | 3.141456 (rad) | -1.000000\n",
      "  24 | 3.141511 (rad) | -1.000000\n",
      "  25 | 3.141543 (rad) | -1.000000\n",
      "  26 | 3.141563 (rad) | -1.000000\n",
      "  27 | 3.141575 (rad) | -1.000000\n",
      "  28 | 3.141582 (rad) | -1.000000\n",
      "  29 | 3.141586 (rad) | -1.000000\n"
     ]
    }
   ],
   "source": [
    "print(\"Step |   Theta        |   Cost\")\n",
    "for i in range(steps):\n",
    "    cost_val = cost(theta)\n",
    "    costs.append(cost_val)\n",
    "    print(f\"{i:>4} | {theta:.6f} {\"(rad)\"} | {cost_val:.6f}\")\n",
    "    theta = opt.step(cost, theta)"
   ]
  },
  {
   "cell_type": "markdown",
   "id": "9d48cb01-29f4-4838-9c13-a842efa2bd0f",
   "metadata": {},
   "source": [
    "#  Final results"
   ]
  },
  {
   "cell_type": "code",
   "execution_count": 9,
   "id": "4cd56e66-37e3-4f6c-9b71-0b648b8d79b0",
   "metadata": {},
   "outputs": [
    {
     "name": "stdout",
     "output_type": "stream",
     "text": [
      "\n",
      "Optimal theta: 3.1415888268700263\n",
      "Minimum cost: -0.9999999999926782\n"
     ]
    }
   ],
   "source": [
    "print(\"\\nOptimal theta:\", theta)\n",
    "print(\"Minimum cost:\", cost(theta))"
   ]
  },
  {
   "cell_type": "markdown",
   "id": "a9ff0d75-e928-4857-afe8-12e4845f5df2",
   "metadata": {},
   "source": [
    "# Plot cost vs. steps"
   ]
  },
  {
   "cell_type": "code",
   "execution_count": 10,
   "id": "2552e198-5b21-4555-96aa-187d9dc443a9",
   "metadata": {},
   "outputs": [
    {
     "data": {
      "image/png": "[encoded data removed]",
      "text/plain": [
       "<Figure size 640x480 with 1 Axes>"
      ]
     },
     "metadata": {},
     "output_type": "display_data"
    }
   ],
   "source": [
    "plt.plot(range(steps), costs, \"-o\")\n",
    "plt.xlabel(\"Step\")\n",
    "plt.ylabel(\"Cost ⟨Z⟩\")\n",
    "plt.title(\"Cost Function vs. Steps\")\n",
    "plt.show()\n"
   ]
  },
  {
   "cell_type": "code",
   "execution_count": null,
   "id": "ce88934b-5b4f-42c3-93ee-209c1670794b",
   "metadata": {},
   "outputs": [],
   "source": []
  }
 ],
 "metadata": {
  "kernelspec": {
   "display_name": "Python 3 (ipykernel)",
   "language": "python",
   "name": "python3"
  },
  "language_info": {
   "codemirror_mode": {
    "name": "ipython",
    "version": 3
   },
   "file_extension": ".py",
   "mimetype": "text/x-python",
   "name": "python",
   "nbconvert_exporter": "python",
   "pygments_lexer": "ipython3",
   "version": "3.12.10"
  }
 },
 "nbformat": 4,
 "nbformat_minor": 5
}

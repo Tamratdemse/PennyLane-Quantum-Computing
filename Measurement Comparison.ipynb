{
 "cells": [
  {
   "cell_type": "markdown",
   "id": "bfd0b963-3fc1-42f1-a443-8eb1a83d7bf0",
   "metadata": {},
   "source": [
    "# Importing the necessary libraries "
   ]
  },
  {
   "cell_type": "code",
   "execution_count": 7,
   "id": "6d2f0e8c-ff67-4e58-8d42-bcdbd9a96dc4",
   "metadata": {},
   "outputs": [],
   "source": [
    "import pennylane as qml\n",
    "from pennylane import numpy as np\n",
    "import matplotlib.pyplot as plt\n",
    "from collections import Counter"
   ]
  },
  {
   "cell_type": "markdown",
   "id": "873842df-7631-4e9a-8e67-c994fd688789",
   "metadata": {},
   "source": [
    "# Create a quantum device for 2 qubits"
   ]
  },
  {
   "cell_type": "code",
   "execution_count": 18,
   "id": "3d48ed40-f6ce-4c72-9b53-7b75524e2dcb",
   "metadata": {},
   "outputs": [],
   "source": [
    "dev = qml.device(\"default.qubit\", wires=2 ,shots=10)"
   ]
  },
  {
   "cell_type": "markdown",
   "id": "6c7ffa19-cb56-40f8-8156-2b2fa3e8241a",
   "metadata": {},
   "source": [
    "# Circuit for probability"
   ]
  },
  {
   "cell_type": "code",
   "execution_count": 19,
   "id": "c9b2cd4d-caab-4a13-a1b3-80100f9b9d5e",
   "metadata": {},
   "outputs": [],
   "source": [
    "@qml.qnode(dev)\n",
    "def circuit_probs():\n",
    "    qml.Hadamard(wires=0)\n",
    "    qml.CNOT(wires=[0, 1])\n",
    "    return qml.probs(wires=[0, 1])"
   ]
  },
  {
   "cell_type": "markdown",
   "id": "4cc62f79-802e-4228-aa09-b683f5d360ca",
   "metadata": {},
   "source": [
    "# Circuit for sampling"
   ]
  },
  {
   "cell_type": "code",
   "execution_count": 20,
   "id": "cd793373-332d-41bf-acd1-a6c72184a901",
   "metadata": {},
   "outputs": [],
   "source": [
    "@qml.qnode(dev)\n",
    "def circuit_sample():\n",
    "    qml.Hadamard(wires=0)\n",
    "    qml.CNOT(wires=[0, 1])\n",
    "    return qml.sample(wires=[0, 1])"
   ]
  },
  {
   "cell_type": "markdown",
   "id": "e97c066d-e88b-435b-9719-8fde8ba7a986",
   "metadata": {},
   "source": [
    "# Circuit for expectation value"
   ]
  },
  {
   "cell_type": "code",
   "execution_count": 21,
   "id": "e8da04bc-ce7c-4775-8f55-c18013bd9148",
   "metadata": {},
   "outputs": [],
   "source": [
    "@qml.qnode(dev)\n",
    "def circuit_expval():\n",
    "    qml.Hadamard(wires=0)\n",
    "    qml.CNOT(wires=[0, 1])\n",
    "    return qml.expval(qml.PauliZ(0) @ qml.PauliZ(1))"
   ]
  },
  {
   "cell_type": "markdown",
   "id": "ffa451d6-1688-431f-bd85-bd8a78994fac",
   "metadata": {},
   "source": [
    "# Run and print results"
   ]
  },
  {
   "cell_type": "code",
   "execution_count": 26,
   "id": "7791264a-826c-46cf-89f9-a0cd5e15760f",
   "metadata": {},
   "outputs": [
    {
     "name": "stdout",
     "output_type": "stream",
     "text": [
      "🔹 Probability (qml.probs):\n",
      "[0.7 0.  0.  0.3]\n",
      "\n",
      "🔹 Sample (qml.sample):\n",
      "[[0 0]\n",
      " [1 1]\n",
      " [1 1]\n",
      " [1 1]\n",
      " [0 0]]\n",
      "\n",
      "🔹 Expectation Value (qml.expval):\n",
      "1.0\n"
     ]
    }
   ],
   "source": [
    "print(\"🔹 Probability (qml.probs):\")\n",
    "print(circuit_probs())\n",
    "\n",
    "print(\"\\n🔹 Sample (qml.sample):\")\n",
    "print(circuit_sample()[:5])  # Just show 10 samples\n",
    "\n",
    "print(\"\\n🔹 Expectation Value (qml.expval):\")\n",
    "print(circuit_expval())"
   ]
  },
  {
   "cell_type": "markdown",
   "id": "bd598931-0565-4121-a214-50a41bcb4b21",
   "metadata": {},
   "source": [
    "# Why probs() is deterministic and sample() is random\n",
    "probs() is deterministic: It calculates the exact mathematical probabilities from the quantum state vector. Every run gives the same result.\n",
    "\n",
    "sample() is random: It simulates what a quantum device would measure — it samples based on probabilities. Different runs can give different sets of results. also each sample is the result of measurement which collaps the superpostion state ."
   ]
  },
  {
   "cell_type": "code",
   "execution_count": null,
   "id": "174547ed-33e5-43e8-9042-7408cf3d9cbf",
   "metadata": {},
   "outputs": [],
   "source": []
  }
 ],
 "metadata": {
  "kernelspec": {
   "display_name": "Python 3 (ipykernel)",
   "language": "python",
   "name": "python3"
  },
  "language_info": {
   "codemirror_mode": {
    "name": "ipython",
    "version": 3
   },
   "file_extension": ".py",
   "mimetype": "text/x-python",
   "name": "python",
   "nbconvert_exporter": "python",
   "pygments_lexer": "ipython3",
   "version": "3.12.10"
  }
 },
 "nbformat": 4,
 "nbformat_minor": 5
}

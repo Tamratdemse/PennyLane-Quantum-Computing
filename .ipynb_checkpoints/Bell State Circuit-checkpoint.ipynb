{
 "cells": [
  {
   "cell_type": "markdown",
   "id": "c06bfda7-50fd-49f2-b21b-9b32e239ce88",
   "metadata": {},
   "source": [
    "# Importing the necessary libraries "
   ]
  },
  {
   "cell_type": "code",
   "execution_count": null,
   "id": "479b8b1d-049a-4f76-b357-7ab10539fff2",
   "metadata": {},
   "outputs": [],
   "source": [
    "import pennylane as qml\n",
    "from pennylane import numpy as np\n",
    "import matplotlib.pyplot as plt\n",
    "from collections import Counter"
   ]
  },
  {
   "cell_type": "markdown",
   "id": "01ad5d85-8961-4cfe-b206-feef464358f6",
   "metadata": {},
   "source": [
    "Create a quantum device for 2 qubits"
   ]
  },
  {
   "cell_type": "code",
   "execution_count": 11,
   "id": "f0ab16a9-86e4-468a-8158-cf46d437fbf3",
   "metadata": {},
   "outputs": [],
   "source": [
    "dev = qml.device(\"default.qubit\", wires=2)"
   ]
  },
  {
   "cell_type": "markdown",
   "id": "e38f5265-99df-4a8b-ac36-248fda1e4dc9",
   "metadata": {},
   "source": [
    "# Define Bell State circuit to get probabilities"
   ]
  },
  {
   "cell_type": "code",
   "execution_count": null,
   "id": "2923f6ff-09b6-4ea2-81ba-8a2b8989e626",
   "metadata": {},
   "outputs": [],
   "source": [
    "\n",
    "@qml.qnode(dev)\n",
    "def bell_state_circuit():\n",
    "    qml.Hadamard(wires=0)     # Put qubit 0 in superposition\n",
    "    qml.CNOT(wires=[0, 1])    \n",
    "    return qml.probs(wires=[0, 1])"
   ]
  },
  {
   "cell_type": "markdown",
   "id": "9d6932e9-0632-473c-8d64-9963868eddf4",
   "metadata": {},
   "source": [
    "# Run circuit"
   ]
  },
  {
   "cell_type": "code",
   "execution_count": null,
   "id": "c5187af9-f570-496d-8cb2-ee8a60d63076",
   "metadata": {},
   "outputs": [],
   "source": [
    "probs = bell_state_circuit()\n",
    "\n",
    "print(\"🔹 Probability distribution:\")\n",
    "for i, p in enumerate(probs):\n",
    "    print(f\"State |{i:02b}>: {p:.4f}\")"
   ]
  }
 ],
 "metadata": {
  "kernelspec": {
   "display_name": "Python 3 (ipykernel)",
   "language": "python",
   "name": "python3"
  },
  "language_info": {
   "codemirror_mode": {
    "name": "ipython",
    "version": 3
   },
   "file_extension": ".py",
   "mimetype": "text/x-python",
   "name": "python",
   "nbconvert_exporter": "python",
   "pygments_lexer": "ipython3",
   "version": "3.12.10"
  }
 },
 "nbformat": 4,
 "nbformat_minor": 5
}

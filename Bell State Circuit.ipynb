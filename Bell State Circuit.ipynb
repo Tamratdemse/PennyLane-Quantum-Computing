{
 "cells": [
  {
   "cell_type": "markdown",
   "id": "c06bfda7-50fd-49f2-b21b-9b32e239ce88",
   "metadata": {},
   "source": [
    "# Importing the necessary libraries "
   ]
  },
  {
   "cell_type": "code",
   "execution_count": 1,
   "id": "479b8b1d-049a-4f76-b357-7ab10539fff2",
   "metadata": {},
   "outputs": [],
   "source": [
    "import pennylane as qml\n",
    "from pennylane import numpy as np\n",
    "import matplotlib.pyplot as plt\n",
    "from collections import Counter"
   ]
  },
  {
   "cell_type": "markdown",
   "id": "01ad5d85-8961-4cfe-b206-feef464358f6",
   "metadata": {},
   "source": [
    "# Create a quantum device for 2 qubits"
   ]
  },
  {
   "cell_type": "code",
   "execution_count": 2,
   "id": "f0ab16a9-86e4-468a-8158-cf46d437fbf3",
   "metadata": {},
   "outputs": [],
   "source": [
    "dev = qml.device(\"default.qubit\", wires=2)"
   ]
  },
  {
   "cell_type": "markdown",
   "id": "50cc9780-7e62-4b2c-bd98-a4d8f9fa25f3",
   "metadata": {},
   "source": [
    "# Define Bell State circuit to get probabilities"
   ]
  },
  {
   "cell_type": "code",
   "execution_count": 3,
   "id": "2923f6ff-09b6-4ea2-81ba-8a2b8989e626",
   "metadata": {},
   "outputs": [],
   "source": [
    "\n",
    "@qml.qnode(dev)\n",
    "def bell_state_circuit():\n",
    "    qml.Hadamard(wires=0)     # Put qubit 0 in superposition\n",
    "    qml.CNOT(wires=[0, 1])    \n",
    "    return qml.probs(wires=[0, 1])"
   ]
  },
  {
   "cell_type": "markdown",
   "id": "9d6932e9-0632-473c-8d64-9963868eddf4",
   "metadata": {},
   "source": [
    "# Run circuit"
   ]
  },
  {
   "cell_type": "code",
   "execution_count": 4,
   "id": "c5187af9-f570-496d-8cb2-ee8a60d63076",
   "metadata": {},
   "outputs": [
    {
     "name": "stdout",
     "output_type": "stream",
     "text": [
      "0: ──H─╭●─┤ ╭Probs\n",
      "1: ────╰X─┤ ╰Probs\n",
      "🔹 Probability distribution:\n",
      "State |00>: 0.5000\n",
      "State |01>: 0.0000\n",
      "State |10>: 0.0000\n",
      "State |11>: 0.5000\n"
     ]
    }
   ],
   "source": [
    "probs = bell_state_circuit()\n",
    "print(qml.draw(bell_state_circuit)())\n",
    "\n",
    "print(\"🔹 Probability distribution:\")\n",
    "for i, p in enumerate(probs):\n",
    "    print(f\"State |{i:02b}>: {p:.4f}\")"
   ]
  },
  {
   "cell_type": "markdown",
   "id": "4a12a122-1d2f-480e-bc1a-3fa4653469af",
   "metadata": {},
   "source": [
    "# Plot probability distribution"
   ]
  },
  {
   "cell_type": "code",
   "execution_count": 15,
   "id": "7a533cfc-d2fd-4c9d-9aeb-0e5a686d94d9",
   "metadata": {},
   "outputs": [
    {
     "data": {
      "image/png": "[encoded data removed]",
      "text/plain": [
       "<Figure size 400x200 with 1 Axes>"
      ]
     },
     "metadata": {},
     "output_type": "display_data"
    }
   ],
   "source": [
    "\n",
    "plt.figure(figsize=(4,2))\n",
    "plt.bar([f\"|{i:02b}⟩\" for i in range(4)], probs, color='dodgerblue')\n",
    "plt.title(\"Bell State Probability Distribution\")\n",
    "plt.ylabel(\"Probability\")\n",
    "plt.show()"
   ]
  },
  {
   "cell_type": "markdown",
   "id": "0ea9ffe5-b732-4366-8fb6-c9a3d6f821f9",
   "metadata": {},
   "source": [
    " # Get the exact statevector"
   ]
  },
  {
   "cell_type": "code",
   "execution_count": 6,
   "id": "9941ffcb-819e-4b10-a3c8-c2689a0d52b1",
   "metadata": {},
   "outputs": [],
   "source": [
    "@qml.qnode(dev)\n",
    "def bell_state_statevector():\n",
    "    qml.Hadamard(wires=0)\n",
    "    qml.CNOT(wires=[0, 1])\n",
    "    return qml.state()"
   ]
  },
  {
   "cell_type": "code",
   "execution_count": 7,
   "id": "dd80adc4-fed4-436c-8ada-a6a24ec08d17",
   "metadata": {},
   "outputs": [
    {
     "name": "stdout",
     "output_type": "stream",
     "text": [
      "\n",
      "🔹 Statevector:\n",
      "[0.70710678+0.j 0.        +0.j 0.        +0.j 0.70710678+0.j]\n"
     ]
    }
   ],
   "source": [
    "state = bell_state_statevector()\n",
    "print(\"\\n🔹 Statevector:\")\n",
    "print(state)"
   ]
  },
  {
   "cell_type": "markdown",
   "id": "64bf8fbc-7c0d-4ef9-932c-b94efe5659dc",
   "metadata": {},
   "source": [
    "# Plot absolute value of statevector amplitudes "
   ]
  },
  {
   "cell_type": "code",
   "execution_count": 16,
   "id": "0ea94e03-d745-4d42-918f-06dd7a5ea4f1",
   "metadata": {},
   "outputs": [
    {
     "data": {
      "image/png": "[encoded data removed]",
      "text/plain": [
       "<Figure size 400x200 with 1 Axes>"
      ]
     },
     "metadata": {},
     "output_type": "display_data"
    }
   ],
   "source": [
    "plt.figure(figsize=(4,2))\n",
    "plt.bar([f\"|{i:02b}⟩\" for i in range(4)], np.abs(state), color='green')\n",
    "plt.title(\"Bell Statevector Amplitudes (|ψ|)\")\n",
    "plt.ylabel(\"Amplitude\")\n",
    "plt.show()"
   ]
  },
  {
   "cell_type": "code",
   "execution_count": 9,
   "id": "9d5b99c4-45a1-4969-8f94-5dec94297b0c",
   "metadata": {},
   "outputs": [],
   "source": [
    "dev_sample = qml.device(\"default.qubit\", wires=2, shots=1000)\n"
   ]
  },
  {
   "cell_type": "code",
   "execution_count": 10,
   "id": "225b1946-17a8-415c-bc25-1e536cee1e3e",
   "metadata": {},
   "outputs": [],
   "source": [
    "@qml.qnode(dev_sample)\n",
    "def bell_state_sampling():\n",
    "    qml.Hadamard(wires=0)\n",
    "    qml.CNOT(wires=[0, 1])\n",
    "    return qml.sample(wires=[0, 1])"
   ]
  },
  {
   "cell_type": "code",
   "execution_count": 11,
   "id": "e487b75d-6147-4cc2-be60-098eac186885",
   "metadata": {},
   "outputs": [],
   "source": [
    "samples = bell_state_sampling()"
   ]
  },
  {
   "cell_type": "code",
   "execution_count": 12,
   "id": "7307ea09-1320-4088-b09c-b4f1e7f65497",
   "metadata": {},
   "outputs": [],
   "source": [
    "# Count outcomes\n",
    "counts = Counter([tuple(s) for s in samples])"
   ]
  },
  {
   "cell_type": "code",
   "execution_count": 13,
   "id": "ddc8bed0-e27e-4f5f-a38f-2c973069c9dc",
   "metadata": {},
   "outputs": [
    {
     "name": "stdout",
     "output_type": "stream",
     "text": [
      "\n",
      "🔹 Measurement samples (from 1000 shots):\n",
      "(np.int64(0), np.int64(0)): 506\n",
      "(np.int64(1), np.int64(1)): 494\n"
     ]
    }
   ],
   "source": [
    "print(\"\\n🔹 Measurement samples (from 1000 shots):\")\n",
    "for outcome in sorted(counts):\n",
    "    print(f\"{outcome}: {counts[outcome]}\")"
   ]
  },
  {
   "cell_type": "code",
   "execution_count": null,
   "id": "8da6fc3b-b995-4e7c-9fe9-d47892f2b014",
   "metadata": {},
   "outputs": [
    {
     "data": {
      "image/png": "[encoded data removed]",
      "text/plain": [
       "<Figure size 400x200 with 1 Axes>"
      ]
     },
     "metadata": {},
     "output_type": "display_data"
    }
   ],
   "source": [
    "# Plot histogram of measurement outcomes\n",
    "plt.figure(figsize=(4,2))\n",
    "plt.bar([str(k) for k in counts.keys()], counts.values(), color='orange')\n",
    "plt.title(\"Bell State Measurement Samples Histogram\")\n",
    "plt.xlabel(\"Outcome\")\n",
    "plt.ylabel(\"Counts\")\n",
    "plt.show()"
   ]
  },
  {
   "cell_type": "code",
   "execution_count": null,
   "id": "f1b95657-683f-46c0-bd8f-7ee71e2bc313",
   "metadata": {},
   "outputs": [],
   "source": []
  }
 ],
 "metadata": {
  "kernelspec": {
   "display_name": "Python 3 (ipykernel)",
   "language": "python",
   "name": "python3"
  },
  "language_info": {
   "codemirror_mode": {
    "name": "ipython",
    "version": 3
   },
   "file_extension": ".py",
   "mimetype": "text/x-python",
   "name": "python",
   "nbconvert_exporter": "python",
   "pygments_lexer": "ipython3",
   "version": "3.12.10"
  }
 },
 "nbformat": 4,
 "nbformat_minor": 5
}

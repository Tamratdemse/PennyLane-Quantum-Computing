{
 "cells": [
  {
   "cell_type": "markdown",
   "id": "2c731473-dad1-4ec8-8802-c35c7d9ad7ef",
   "metadata": {},
   "source": [
    "# Importing the necessary libraries "
   ]
  },
  {
   "cell_type": "code",
   "execution_count": 9,
   "id": "65c61d9e-aad0-4dbf-ae84-2a05a0f535ea",
   "metadata": {},
   "outputs": [],
   "source": [
    "import pennylane as qml\n",
    "import matplotlib.pyplot as plt"
   ]
  },
  {
   "cell_type": "markdown",
   "id": "857574f5-2a8c-41bf-b2e6-f9678535f972",
   "metadata": {},
   "source": [
    "# Create a quantum device for 4 qubits"
   ]
  },
  {
   "cell_type": "code",
   "execution_count": 10,
   "id": "9c229e20-9e65-4614-a339-a4e7cbb57f24",
   "metadata": {},
   "outputs": [],
   "source": [
    "dev = qml.device(\"default.qubit\", wires=4)"
   ]
  },
  {
   "cell_type": "markdown",
   "id": "f1fa9000-6f59-46ae-9b00-60cf3671df37",
   "metadata": {},
   "source": [
    "# Define GHZ State circuit to get probabilities"
   ]
  },
  {
   "cell_type": "code",
   "execution_count": 11,
   "id": "a7e52812-82f4-4e03-95b2-6b19ea29b6a9",
   "metadata": {},
   "outputs": [],
   "source": [
    "\n",
    "@qml.qnode(dev)\n",
    "def ghz_state_circuit():\n",
    "    qml.Hadamard(wires=0)     # Put qubit 0 in superposition\n",
    "    qml.CNOT(wires=[0, 1])  \n",
    "    qml.CNOT(wires=[0, 2]) \n",
    "    qml.CNOT(wires=[0, 3]) \n",
    "    return qml.probs(wires=[0,1,2,3])"
   ]
  },
  {
   "cell_type": "markdown",
   "id": "128748ac-9bf4-4d99-b4cd-166a4b6b18d1",
   "metadata": {},
   "source": [
    "# Run circuit"
   ]
  },
  {
   "cell_type": "code",
   "execution_count": 14,
   "id": "8173dda2-20e9-4c52-ad60-9315be361240",
   "metadata": {},
   "outputs": [
    {
     "name": "stdout",
     "output_type": "stream",
     "text": [
      "0: ──H─╭●─╭●─╭●─┤ ╭Probs\n",
      "1: ────╰X─│──│──┤ ├Probs\n",
      "2: ───────╰X─│──┤ ├Probs\n",
      "3: ──────────╰X─┤ ╰Probs\n",
      "🔹 Probability distribution:\n",
      "State |0000>: 0.5000\n",
      "State |0001>: 0.0000\n",
      "State |0010>: 0.0000\n",
      "State |0011>: 0.0000\n",
      "State |0100>: 0.0000\n",
      "State |0101>: 0.0000\n",
      "State |0110>: 0.0000\n",
      "State |0111>: 0.0000\n",
      "State |1000>: 0.0000\n",
      "State |1001>: 0.0000\n",
      "State |1010>: 0.0000\n",
      "State |1011>: 0.0000\n",
      "State |1100>: 0.0000\n",
      "State |1101>: 0.0000\n",
      "State |1110>: 0.0000\n",
      "State |1111>: 0.5000\n"
     ]
    }
   ],
   "source": [
    "probs =ghz_state_circuit()\n",
    "print(qml.draw(ghz_state_circuit)())\n",
    "\n",
    "print(\"🔹 Probability distribution:\")\n",
    "for i, p in enumerate(probs):\n",
    "    print(f\"State |{i:04b}>: {p:.4f}\")"
   ]
  },
  {
   "cell_type": "markdown",
   "id": "e25731d4-2a8b-401c-9a12-e7451d30e358",
   "metadata": {},
   "source": [
    "# Plot probability distribution"
   ]
  },
  {
   "cell_type": "code",
   "execution_count": 27,
   "id": "1bb4298b-7038-4035-b8cd-809d034701df",
   "metadata": {},
   "outputs": [
    {
     "data": {
      "image/png": "[encoded data removed]",
      "text/plain": [
       "<Figure size 1000x200 with 1 Axes>"
      ]
     },
     "metadata": {},
     "output_type": "display_data"
    }
   ],
   "source": [
    "plt.figure(figsize=(10,2))\n",
    "plt.bar([f\"|{i:04b}⟩\" for i in range(16)], probs, color='dodgerblue')\n",
    "plt.title(\"GHZ State Probability Distribution\")\n",
    "plt.ylabel(\"Probability\")\n",
    "plt.show()"
   ]
  },
  {
   "cell_type": "code",
   "execution_count": null,
   "id": "c19504b9-093a-4fb6-93fa-d56d82f6d4d2",
   "metadata": {},
   "outputs": [],
   "source": []
  }
 ],
 "metadata": {
  "kernelspec": {
   "display_name": "Python 3 (ipykernel)",
   "language": "python",
   "name": "python3"
  },
  "language_info": {
   "codemirror_mode": {
    "name": "ipython",
    "version": 3
   },
   "file_extension": ".py",
   "mimetype": "text/x-python",
   "name": "python",
   "nbconvert_exporter": "python",
   "pygments_lexer": "ipython3",
   "version": "3.12.10"
  }
 },
 "nbformat": 4,
 "nbformat_minor": 5
}
